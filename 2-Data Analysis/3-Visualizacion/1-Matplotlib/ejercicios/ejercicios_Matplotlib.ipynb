{
 "cells": [
  {
   "cell_type": "markdown",
   "metadata": {},
   "source": [
    "## Ejercicios de Matplotlib"
   ]
  },
  {
   "cell_type": "markdown",
   "metadata": {},
   "source": [
    "1. Importa pyplot, numpy y pandas"
   ]
  },
  {
   "cell_type": "code",
   "execution_count": 1,
   "metadata": {},
   "outputs": [],
   "source": [
    "import matplotlib.pyplot as plt\n",
    "import numpy as np\n",
    "import pandas as pd"
   ]
  },
  {
   "cell_type": "markdown",
   "metadata": {},
   "source": [
    "2. Activa matplotlib de forma estática"
   ]
  },
  {
   "cell_type": "code",
   "execution_count": 2,
   "metadata": {},
   "outputs": [],
   "source": [
    "%matplotlib inline"
   ]
  },
  {
   "cell_type": "markdown",
   "metadata": {},
   "source": [
    "3. Sabemos que podemos pintar gráficas de dos formas: la figura incluye los ejes o teniendo figura y ejes por separado.\n",
    "Usando solo una figura, usa numpy para los valores del eje X entre 0 y 5. Pinta dos gráficas en dos cajas distintas, a la izquierda una recta con pendiente positiva de 3 que pase por (0,0) y a la derecha una recta con pendiente negativa de 3 que pase por (0,-5). Elige la precisión en el eje X que desees.  "
   ]
  },
  {
   "cell_type": "code",
   "execution_count": 8,
   "metadata": {},
   "outputs": [
    {
     "data": {
      "image/png": "[encoded data removed]",
      "text/plain": [
       "<Figure size 432x288 with 2 Axes>"
      ]
     },
     "metadata": {
      "needs_background": "light"
     },
     "output_type": "display_data"
    }
   ],
   "source": [
    "x = np.linspace(0, 5, 100)\n",
    "\n",
    "y1 = 3*x\n",
    "y2 = -3*x - 5\n",
    "\n",
    "plt.figure()  # create a plot figure\n",
    "\n",
    "# create the first of two panels and set current axis\n",
    "plt.subplot(1, 2, 1) # (rows, columns, panel number)\n",
    "plt.plot(x, y1)\n",
    "\n",
    "# create the second panel and set current axis\n",
    "plt.subplot(1, 2, 2)\n",
    "plt.plot(x, y2);"
   ]
  },
  {
   "cell_type": "markdown",
   "metadata": {},
   "source": [
    "4. Fija el eje X entre 0 y 5 y el eje Y entre -15 y 15"
   ]
  },
  {
   "cell_type": "code",
   "execution_count": 10,
   "metadata": {},
   "outputs": [
    {
     "data": {
      "image/png": "[encoded data removed]",
      "text/plain": [
       "<Figure size 432x288 with 2 Axes>"
      ]
     },
     "metadata": {
      "needs_background": "light"
     },
     "output_type": "display_data"
    }
   ],
   "source": [
    "plt.subplot(1, 2, 1) # (rows, columns, panel number)\n",
    "plt.plot(x, y1)\n",
    "plt.xlim(0, 5)\n",
    "plt.ylim(-15, 15)\n",
    "\n",
    "# create the second panel and set current axis\n",
    "plt.subplot(1, 2, 2)\n",
    "plt.plot(x, y2)\n",
    "plt.xlim(0, 5)\n",
    "plt.ylim(-15, 15);"
   ]
  },
  {
   "cell_type": "markdown",
   "metadata": {},
   "source": [
    "5. Llama al eje X \"eje X\", al eje Y \"eje Y\" y pon de títulos \"recta sube\" y \"recta baja\". Muestra dos etiquetas de ejeX pero solo una de eje Y."
   ]
  },
  {
   "cell_type": "code",
   "execution_count": 13,
   "metadata": {},
   "outputs": [
    {
     "data": {
      "image/png": "[encoded data removed]",
      "text/plain": [
       "<Figure size 432x288 with 2 Axes>"
      ]
     },
     "metadata": {
      "needs_background": "light"
     },
     "output_type": "display_data"
    }
   ],
   "source": [
    "plt.subplot(1, 2, 1) # (rows, columns, panel number)\n",
    "plt.plot(x, y1)\n",
    "plt.xlabel('eje X')\n",
    "plt.ylabel('eje Y')\n",
    "plt.title('recta sube')\n",
    "\n",
    "# create the second panel and set current axis\n",
    "plt.subplot(1, 2, 2)\n",
    "plt.plot(x, y2)\n",
    "plt.xlabel('eje X')\n",
    "plt.title('recta baja');"
   ]
  },
  {
   "cell_type": "markdown",
   "metadata": {},
   "source": [
    "Vamos a pintar lo mismo pero accediendo directamente a los ejes"
   ]
  },
  {
   "cell_type": "markdown",
   "metadata": {},
   "source": [
    "6. Usando una figura Y EJES POR SEPARADO, usa numpy para los valores del eje X entre 0 y 5. Pinta dos gráficas en dos cajas distintas, a la izquierda una recta con pendiente positiva de 3 que pase por (0,0) y a la derecha una recta con pendiente negativa de 3 que pase por (0,-5). Elige la precisión en el eje X que desees.  "
   ]
  },
  {
   "cell_type": "code",
   "execution_count": 7,
   "metadata": {},
   "outputs": [],
   "source": [
    "# obtén solo la figura y los ejes y mira el resultado\n",
    "\n",
    "\n"
   ]
  },
  {
   "cell_type": "code",
   "execution_count": 8,
   "metadata": {},
   "outputs": [],
   "source": [
    "# basándote en el código previo, cambia solo la manipulación de los ejes\n",
    "# recuerda que hay unos métodos que su nombre cambia un poco\n",
    "\n"
   ]
  },
  {
   "cell_type": "markdown",
   "metadata": {},
   "source": [
    "7. Existen distintos modelos de gráficas."
   ]
  },
  {
   "cell_type": "markdown",
   "metadata": {},
   "source": [
    "Crea una lista de coordenadas X: 20, 22, 24, 26, 28\n",
    "Crea una lista de coordenadas Y: 5, 15, -5, 20, 5\n",
    "Usa un gráfico de barras colocadas en X con alturas Y"
   ]
  },
  {
   "cell_type": "code",
   "execution_count": null,
   "metadata": {},
   "outputs": [],
   "source": []
  },
  {
   "cell_type": "markdown",
   "metadata": {},
   "source": [
    "8. Crea un gráfico de barras. Pintamos la altura de un grupo de amigos, cada barra representa a una persona. Ana mide 160 cm, Luis mide 180 cm, Pedro mide 175 cm, Sofía mide 190 cm, Carmen mide 170 cm. Las barras serán verdes.\n",
    "Consejo: si no vas a tener que manipular especialmente los ejes, es más sencillo dejarlos dentro de la figura."
   ]
  },
  {
   "cell_type": "code",
   "execution_count": null,
   "metadata": {},
   "outputs": [],
   "source": []
  },
  {
   "cell_type": "markdown",
   "metadata": {},
   "source": [
    "9. Basándote en el gráfico anterior, escribe encima de cada barra la altura de cada amigo.\n",
    "Pista: usa un bucle que lea cada barra de barplot = plt.bar(x,y)\n",
    "bar tiene los métodos get_height(), get_x(), get_width()\n",
    "plt.text(x,y,valor, va='bottom')"
   ]
  },
  {
   "cell_type": "code",
   "execution_count": null,
   "metadata": {},
   "outputs": [],
   "source": []
  },
  {
   "cell_type": "markdown",
   "metadata": {},
   "source": [
    "10. Cambia el tamaño de la figura a (3,5)"
   ]
  },
  {
   "cell_type": "code",
   "execution_count": null,
   "metadata": {},
   "outputs": [],
   "source": []
  },
  {
   "cell_type": "markdown",
   "metadata": {},
   "source": [
    "11. Basándote en el gráfico anterior, borra la escala del eje Y (ya aparece en la altura)\n",
    "Pista: cuando plt.yticks() recibe una lista vacía no pinta el eje Y"
   ]
  },
  {
   "cell_type": "code",
   "execution_count": null,
   "metadata": {},
   "outputs": [],
   "source": []
  },
  {
   "cell_type": "markdown",
   "metadata": {},
   "source": [
    "12. Prueba a hacer el gráfico con las barras en horizontal (no es necesario poner el texto al final de la barra)."
   ]
  },
  {
   "cell_type": "code",
   "execution_count": null,
   "metadata": {},
   "outputs": [],
   "source": []
  },
  {
   "cell_type": "markdown",
   "metadata": {},
   "source": [
    "13. Prueba a invertir los ejes con ax.invert_axis()\n",
    "Necesitarás tener los ejes disponibles fuera de la figura"
   ]
  },
  {
   "cell_type": "code",
   "execution_count": null,
   "metadata": {},
   "outputs": [],
   "source": [
    "\n"
   ]
  },
  {
   "cell_type": "markdown",
   "metadata": {},
   "source": [
    "14. En el último gráfico, cambia el estilo a 'dark_background'"
   ]
  },
  {
   "cell_type": "code",
   "execution_count": null,
   "metadata": {},
   "outputs": [],
   "source": []
  },
  {
   "cell_type": "markdown",
   "metadata": {},
   "source": [
    "15. Vamos a introducir pandas. Crea un DataFrame con las columnas \"Year\" de valores 2015, 2016, 2017, 2018, 2019 y la columna \"Sold_items_A\" de valores 1000, 3500, 4000, 5500, 7000"
   ]
  },
  {
   "cell_type": "code",
   "execution_count": null,
   "metadata": {},
   "outputs": [],
   "source": [
    "\n"
   ]
  },
  {
   "cell_type": "markdown",
   "metadata": {},
   "source": [
    "16. Ahora pintamos un gráfico de línea con las ventas respecto al año. Pon un título y etiquetas en los ejes.\n",
    "Cambia el estilo a 'seaborn-white'. La línea debe ser con rayas y verde."
   ]
  },
  {
   "cell_type": "code",
   "execution_count": null,
   "metadata": {},
   "outputs": [],
   "source": []
  },
  {
   "cell_type": "markdown",
   "metadata": {},
   "source": [
    "17. Otro departamento B ha vendido en esos años 2000, 3100, 5000, 4000, 6000 unidades. Incluye esa columna en el DataFrame y pinta en la misma gráfica las dos líneas. B es una línea punteada y roja. Muestra una leyenda abajo a la derecha."
   ]
  },
  {
   "cell_type": "code",
   "execution_count": null,
   "metadata": {},
   "outputs": [],
   "source": []
  },
  {
   "cell_type": "code",
   "execution_count": 9,
   "metadata": {},
   "outputs": [],
   "source": [
    "# df"
   ]
  },
  {
   "cell_type": "code",
   "execution_count": null,
   "metadata": {},
   "outputs": [],
   "source": []
  },
  {
   "cell_type": "markdown",
   "metadata": {},
   "source": [
    "18. Haz un scatter del departamento A usando __solo el DataFrame__.\n",
    "Pista: el propio DataFrame tiene un método plot.\n",
    "df.plot('columna X', 'columna Y', 'kind' = 'scatter)"
   ]
  },
  {
   "cell_type": "code",
   "execution_count": null,
   "metadata": {},
   "outputs": [],
   "source": [
    "\n",
    "\n"
   ]
  },
  {
   "cell_type": "markdown",
   "metadata": {},
   "source": [
    "19. Prueba a cambiar kind a 'pie'"
   ]
  },
  {
   "cell_type": "code",
   "execution_count": null,
   "metadata": {},
   "outputs": [],
   "source": []
  },
  {
   "cell_type": "markdown",
   "metadata": {},
   "source": [
    "20. Prueba a quitar la leyenda incluyendo legend igual a False, añade labels y quita la etiqueta en Y"
   ]
  },
  {
   "cell_type": "code",
   "execution_count": null,
   "metadata": {},
   "outputs": [],
   "source": []
  },
  {
   "cell_type": "markdown",
   "metadata": {},
   "source": [
    "21. Vamos a pintar un histograma"
   ]
  },
  {
   "cell_type": "code",
   "execution_count": 10,
   "metadata": {},
   "outputs": [],
   "source": [
    "\n",
    "np.random.seed(1) # cada vez que le pida N números aleatorios, me dará los mismos\n",
    "\n",
    "mydf = pd.DataFrame({\"Altura\" : np.random.randint(low=150, high=190, size=300)})"
   ]
  },
  {
   "cell_type": "markdown",
   "metadata": {},
   "source": [
    "Pista: https://pandas.pydata.org/pandas-docs/version/0.23.4/generated/pandas.DataFrame.plot.html"
   ]
  },
  {
   "cell_type": "code",
   "execution_count": 11,
   "metadata": {},
   "outputs": [],
   "source": [
    "# Histogram\n",
    "\n"
   ]
  },
  {
   "cell_type": "markdown",
   "metadata": {},
   "source": [
    "Nota: con ax = df.plot()\n",
    "\n",
    "se pueden poner las etiquetas con\n",
    "\n",
    "ax.set(xlabel=\"Bins\")"
   ]
  },
  {
   "cell_type": "markdown",
   "metadata": {},
   "source": [
    "22. Contornos de 3D a 2D. Escribe una función que recibiendo x,y devuelva (1 - x / 2 + x ** 5 + y ** 3) * np.exp(-x ** 2 -y ** 2)\n",
    "\n",
    "Tablero: Tanto x como y van de -3 a 3 y usaremos 256 puntos.\n",
    "Usa contourf, con 8 niveles (cortes), una transparencia de 0.75 y un color map de tipo 'jet'. \n",
    "Bonus: pinta las líneas de los contornos también de negro"
   ]
  },
  {
   "cell_type": "code",
   "execution_count": null,
   "metadata": {},
   "outputs": [],
   "source": []
  }
 ],
 "metadata": {
  "kernelspec": {
   "display_name": "Python 3",
   "language": "python",
   "name": "python3"
  },
  "language_info": {
   "codemirror_mode": {
    "name": "ipython",
    "version": 3
   },
   "file_extension": ".py",
   "mimetype": "text/x-python",
   "name": "python",
   "nbconvert_exporter": "python",
   "pygments_lexer": "ipython3",
   "version": "3.8.3"
  }
 },
 "nbformat": 4,
 "nbformat_minor": 4
}

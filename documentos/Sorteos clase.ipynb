{
 "cells": [
  {
   "cell_type": "code",
   "execution_count": 21,
   "metadata": {},
   "outputs": [
    {
     "name": "stdout",
     "output_type": "stream",
     "text": [
      "Parejas de alumnos de casa:  [('Quique', 'Esther'), ('Oscar', 'Ernesto'), ('Beba', 'Kerstin', 'Valeria'), ('Zorion', 'Manu')]\n",
      "Parejas de alumnos de clase:  [('Borja Puig', 'Antonio'), ('Diego', 'Jaime', 'Fred'), ('Borja Páez', 'Marcos'), ('Álvaro', 'Eduardo')]\n"
     ]
    }
   ],
   "source": [
    "import numpy as np\n",
    "\n",
    "al_casa = ['Quique', 'Manu', 'Zorion', 'Esther', 'Oscar', 'Valeria', 'Kerstin', 'Beba',\n",
    "          'Ernesto']\n",
    "al_clase = ['Borja Páez', 'Eduardo',\n",
    "            'Jaime', 'Fred', 'Marcos',\n",
    "            'Álvaro', 'Borja Puig', 'Diego', 'Antonio']\n",
    "\n",
    "len_casa = len(al_casa)\n",
    "len_clase = len(al_clase)\n",
    "\n",
    "def sorteo_par(parejas):\n",
    "    len_parejas = len(parejas)\n",
    "    couples = []\n",
    "    \n",
    "    for i in range(int(len_parejas/2)):\n",
    "        uno = np.random.choice(parejas, 1)[0]\n",
    "        parejas.remove(uno)\n",
    "\n",
    "        dos = np.random.choice(parejas, 1)[0]\n",
    "        parejas.remove(dos)\n",
    "\n",
    "        couples.append((uno, dos))\n",
    "        \n",
    "    return couples\n",
    "\n",
    "\n",
    "couples_casa = sorteo_par(al_casa)\n",
    "couples_clase = sorteo_par(al_clase)\n",
    "\n",
    "if len(al_clase) %2 != 0:\n",
    "    pareja_elegida = np.random.randint(0, int(len_clase/2))\n",
    "    couples_clase[pareja_elegida] = couples_clase[pareja_elegida] + (al_clase[0],)\n",
    "    \n",
    "if len(al_casa) %2 != 0:\n",
    "    pareja_elegida = np.random.randint(0, int(len_casa/2))\n",
    "    couples_casa[pareja_elegida] = couples_casa[pareja_elegida] + (al_casa[0],)\n",
    "\n",
    "    \n",
    "print(\"Parejas de alumnos de casa: \", couples_casa)\n",
    "print(\"Parejas de alumnos de clase: \", couples_clase)"
   ]
  },
  {
   "cell_type": "code",
   "execution_count": null,
   "metadata": {},
   "outputs": [],
   "source": [
    "\n",
    "\n",
    "al_casa = ['Quique', 'Manu', 'Zorion', 'Esther', 'Oscar', 'Valeria']\n",
    "al_clase = ['Ernesto', 'Borja Páez', 'Eduardo',\n",
    "            'Kerstin', 'Tilda', 'Beba',\n",
    "            'Jaime', 'Fred', 'Marcos',\n",
    "            'Álvaro', 'Borja Puig', 'Diego', 'Antonio']"
   ]
  }
 ],
 "metadata": {
  "kernelspec": {
   "display_name": "Python 3",
   "language": "python",
   "name": "python3"
  },
  "language_info": {
   "codemirror_mode": {
    "name": "ipython",
    "version": 3
   },
   "file_extension": ".py",
   "mimetype": "text/x-python",
   "name": "python",
   "nbconvert_exporter": "python",
   "pygments_lexer": "ipython3",
   "version": "3.8.3"
  }
 },
 "nbformat": 4,
 "nbformat_minor": 4
}

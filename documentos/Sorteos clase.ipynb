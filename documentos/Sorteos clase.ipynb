{
 "cells": [
  {
   "cell_type": "code",
   "execution_count": 18,
   "metadata": {},
   "outputs": [
    {
     "name": "stdout",
     "output_type": "stream",
     "text": [
      "Parejas de alumnos de casa:  [('Esther', 'Beba'), ('Kerstin', 'Oscar', 'Manu'), ('Valeria', 'Diego'), ('Zorion', 'Quique')]\n",
      "Parejas de alumnos de clase:  [('Tilda', 'Antonio'), ('Jaime', 'Marcos'), ('Eduardo', 'Borja Puig'), ('Fred', 'Borja Páez')]\n"
     ]
    }
   ],
   "source": [
    "import numpy as np\n",
    "\n",
    "al_casa = ['Quique', 'Manu', 'Zorion', 'Esther', 'Oscar', 'Valeria',\n",
    "          'Kerstin', 'Beba', 'Diego']\n",
    "\n",
    "al_clase = ['Borja Páez', 'Eduardo', 'Tilda',\n",
    "            'Jaime', 'Fred', 'Marcos', 'Borja Puig',\n",
    "            'Antonio']\n",
    "\n",
    "len_casa = len(al_casa)\n",
    "len_clase = len(al_clase)\n",
    "\n",
    "def sorteo_par(parejas):\n",
    "    len_parejas = len(parejas)\n",
    "    couples = []\n",
    "    \n",
    "    for i in range(int(len_parejas/2)):\n",
    "        uno = np.random.choice(parejas, 1)[0]\n",
    "        parejas.remove(uno)\n",
    "\n",
    "        dos = np.random.choice(parejas, 1)[0]\n",
    "        parejas.remove(dos)\n",
    "\n",
    "        couples.append((uno, dos))\n",
    "        \n",
    "    return couples\n",
    "\n",
    "\n",
    "couples_casa = sorteo_par(al_casa)\n",
    "couples_clase = sorteo_par(al_clase)\n",
    "\n",
    "if len(al_clase) %2 != 0:\n",
    "    pareja_elegida = np.random.randint(0, int(len_clase/2))\n",
    "    couples_clase[pareja_elegida] = couples_clase[pareja_elegida] + (al_clase[0],)\n",
    "    \n",
    "if len(al_casa) %2 != 0:\n",
    "    pareja_elegida = np.random.randint(0, int(len_casa/2))\n",
    "    couples_casa[pareja_elegida] = couples_casa[pareja_elegida] + (al_casa[0],)\n",
    "\n",
    "    \n",
    "print(\"Parejas de alumnos de casa: \", couples_casa)\n",
    "print(\"Parejas de alumnos de clase: \", couples_clase)"
   ]
  },
  {
   "cell_type": "code",
   "execution_count": null,
   "metadata": {},
   "outputs": [],
   "source": [
    "al_casa = ['Quique', 'Manu', 'Zorion', 'Esther', 'Oscar', 'Valeria']\n",
    "al_clase = ['Ernesto', 'Borja Páez', 'Eduardo',\n",
    "            'Kerstin', 'Tilda', 'Beba',\n",
    "            'Jaime', 'Fred', 'Marcos',\n",
    "            'Álvaro', 'Borja Puig', 'Diego', 'Antonio']"
   ]
  },
  {
   "cell_type": "code",
   "execution_count": 45,
   "metadata": {},
   "outputs": [
    {
     "name": "stdout",
     "output_type": "stream",
     "text": [
      "      Casa\n",
      "5  Valeria\n",
      "0   Quique\n",
      "4    Oscar\n",
      "2   Zorion\n",
      "1     Manu\n",
      "3   Esther\n",
      "6  Ernesto\n",
      "         Clase\n",
      "4        Jaime\n",
      "7       Álvaro\n",
      "8   Borja Puig\n",
      "2      Kerstin\n",
      "9        Diego\n",
      "3        Tilda\n",
      "1      Eduardo\n",
      "0   Borja Páez\n",
      "10     Antonio\n",
      "5         Fred\n",
      "6       Marcos\n"
     ]
    }
   ],
   "source": [
    "al_casa = ['Quique', 'Manu', 'Zorion', 'Esther', 'Oscar', 'Valeria',\n",
    "          'Ernesto']\n",
    "\n",
    "al_clase = ['Borja Páez', 'Eduardo',\n",
    "            'Kerstin', 'Tilda',\n",
    "            'Jaime', 'Fred', 'Marcos',\n",
    "            'Álvaro', 'Borja Puig', 'Diego', 'Antonio']\n",
    "\n",
    "import pandas as pd\n",
    "\n",
    "df_casa = pd.DataFrame(al_casa, columns=['Casa'])\n",
    "df_clase = pd.DataFrame(al_clase, columns=['Clase'])\n",
    "print(df_casa.sample(frac = 1)) \n",
    "print(df_clase.sample(frac = 1)) "
   ]
  }
 ],
 "metadata": {
  "kernelspec": {
   "display_name": "Python 3",
   "language": "python",
   "name": "python3"
  },
  "language_info": {
   "codemirror_mode": {
    "name": "ipython",
    "version": 3
   },
   "file_extension": ".py",
   "mimetype": "text/x-python",
   "name": "python",
   "nbconvert_exporter": "python",
   "pygments_lexer": "ipython3",
   "version": "3.8.3"
  }
 },
 "nbformat": 4,
 "nbformat_minor": 4
}
